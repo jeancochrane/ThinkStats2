{
 "cells": [
  {
   "cell_type": "markdown",
   "metadata": {},
   "source": [
    "# Probability mass functions\n",
    "\n",
    "Downey presents an interesting definition of probabilities: **frequencies expressed as a fraction of a sample size.** The process of moving from a frequency to a probability is **normalization**.\n",
    "\n",
    "(Sidebar: defining \"probability\" is interesting and contentious, and seems to distinguish disciplines from one another. According to [Bayesian Methods for Hackers](http://nbviewer.jupyter.org/github/CamDavidsonPilon/Probabilistic-Programming-and-Bayesian-Methods-for-Hackers/blob/master/Chapter1_Introduction/Ch1_Introduction_PyMC3.ipynb#The-Bayesian-state-of-mind), probability, to a frequentist, represents the long-run frequency of an event given an increasing number of trials; to a Bayesian, on the other hand, probability is the \"believability\" in an event. Downey's definition is clearly **frequentist**, and it has a nice conciseness to it.)\n",
    "\n",
    "Here's an alternative implimentation of Downey's function for probability:"
   ]
  },
  {
   "cell_type": "code",
   "execution_count": 5,
   "metadata": {},
   "outputs": [
    {
     "data": {
      "text/plain": [
       "0.5"
      ]
     },
     "execution_count": 5,
     "metadata": {},
     "output_type": "execute_result"
    }
   ],
   "source": [
    "def probability(x, distribution):\n",
    "    # x must be an element of distribution.\n",
    "    x_freq = sum([1 for i in distribution if i==x])\n",
    "    return x_freq / len(distribution)\n",
    "\n",
    "probability(1, [1, 1, 2, 5])"
   ]
  },
  {
   "cell_type": "markdown",
   "metadata": {},
   "source": [
    "Downey, of course, has his own implementation of probability mass functions (PMFs). I'll use his for now."
   ]
  }
 ],
 "metadata": {
  "kernelspec": {
   "display_name": "learning",
   "language": "python",
   "name": "learning"
  },
  "language_info": {
   "codemirror_mode": {
    "name": "ipython",
    "version": 3
   },
   "file_extension": ".py",
   "mimetype": "text/x-python",
   "name": "python",
   "nbconvert_exporter": "python",
   "pygments_lexer": "ipython3",
   "version": "3.6.0"
  }
 },
 "nbformat": 4,
 "nbformat_minor": 2
}
