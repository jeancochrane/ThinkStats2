{
 "cells": [
  {
   "cell_type": "markdown",
   "metadata": {},
   "source": [
    "# Chapter 2: Distributions\n",
    "\n",
    "Downey advocates for the `Counter` data type provided by `collections`, which is a cool subclass of dictionaries that easily calculates frequencies. Let's generate some random numbers and get a distribution using this data type."
   ]
  },
  {
   "cell_type": "code",
   "execution_count": 39,
   "metadata": {},
   "outputs": [
    {
     "name": "stdout",
     "output_type": "stream",
     "text": [
      "Counter({4: 11, 1: 11, 10: 10, 7: 10, 5: 10, 8: 9, 9: 9, 6: 9, 11: 8, 3: 8, 2: 5})\n"
     ]
    }
   ],
   "source": [
    "from random import randint\n",
    "from collections import Counter\n",
    "\n",
    "dist = [randint(1,11) for x in range(100)]\n",
    "counter = Counter(dist)\n",
    "print(counter)"
   ]
  },
  {
   "cell_type": "markdown",
   "metadata": {},
   "source": [
    "We can plot a histogram of `dist` using matplotlib's `pyplot` submodule."
   ]
  },
  {
   "cell_type": "code",
   "execution_count": 80,
   "metadata": {},
   "outputs": [
    {
     "ename": "AttributeError",
     "evalue": "'AxesSubplot' object has no attribute 'close'",
     "output_type": "error",
     "traceback": [
      "\u001b[0;31m---------------------------------------------------------------------------\u001b[0m",
      "\u001b[0;31mAttributeError\u001b[0m                            Traceback (most recent call last)",
      "\u001b[0;32m<ipython-input-80-113346bdeae5>\u001b[0m in \u001b[0;36m<module>\u001b[0;34m()\u001b[0m\n\u001b[1;32m     20\u001b[0m \u001b[0max\u001b[0m\u001b[0;34m.\u001b[0m\u001b[0mset_ylabel\u001b[0m\u001b[0;34m(\u001b[0m\u001b[0;34m'Frequency'\u001b[0m\u001b[0;34m)\u001b[0m\u001b[0;34m\u001b[0m\u001b[0m\n\u001b[1;32m     21\u001b[0m \u001b[0max\u001b[0m\u001b[0;34m.\u001b[0m\u001b[0mset_title\u001b[0m\u001b[0;34m(\u001b[0m\u001b[0;34m'Frequency of 100 random integers'\u001b[0m\u001b[0;34m)\u001b[0m\u001b[0;34m\u001b[0m\u001b[0m\n\u001b[0;32m---> 22\u001b[0;31m \u001b[0max\u001b[0m\u001b[0;34m.\u001b[0m\u001b[0mclose\u001b[0m\u001b[0;34m(\u001b[0m\u001b[0;34m)\u001b[0m\u001b[0;34m\u001b[0m\u001b[0m\n\u001b[0m",
      "\u001b[0;31mAttributeError\u001b[0m: 'AxesSubplot' object has no attribute 'close'"
     ]
    },
    {
     "data": {
      "image/png": "[encoded data removed]",
      "text/plain": [
       "<matplotlib.figure.Figure at 0x1202b8748>"
      ]
     },
     "metadata": {},
     "output_type": "display_data"
    }
   ],
   "source": [
    "%matplotlib inline\n",
    "\n",
    "from matplotlib import pyplot as plt\n",
    "import numpy as np\n",
    "\n",
    "\n",
    "x = np.array(dist)\n",
    "bins = sorted(list(x))\n",
    "xs = np.arange(11)\n",
    "labels = [str(x) for x in xs]\n",
    "\n",
    "fig = plt.figure()\n",
    "ax = fig.add_subplot(1,1,1)\n",
    "\n",
    "ax.set_xticks(xs+0.5)\n",
    "ax.set_xticklabels(labels)\n",
    "\n",
    "ax.hist(x, width=0.9, bins=bins)\n",
    "ax.set_xlabel('Integer')\n",
    "ax.set_ylabel('Frequency')\n",
    "ax.set_title('Frequency of 100 random integers')\n",
    "ax.close()"
   ]
  },
  {
   "cell_type": "markdown",
   "metadata": {},
   "source": [
    "Now, let's explore the data from the NSFG using histograms."
   ]
  },
  {
   "cell_type": "code",
   "execution_count": 82,
   "metadata": {},
   "outputs": [
    {
     "data": {
      "image/png": "[encoded data removed]",
      "text/plain": [
       "<matplotlib.figure.Figure at 0x113a3fc18>"
      ]
     },
     "metadata": {},
     "output_type": "display_data"
    }
   ],
   "source": [
    "import nsfg\n",
    "\n",
    "preg = nsfg.ReadFemPreg()\n",
    "live = preg[preg.outcome == 1]\n",
    "x = live.birthwgt_lb\n",
    "\n",
    "bins = sorted(list(set([b for b in x.dropna()])))\n",
    "labels = [str(x) for x in bins]\n",
    "xmax = max(bins)\n",
    "xs = np.arange(xmax + 1)\n",
    "plt.set_xticks = (xs+0.5)\n",
    "\n",
    "plt.hist(x.dropna(), width=0.9, bins=bins)\n",
    "plt.xlabel('Birthweight (lbs)')\n",
    "plt.ylabel('Frequency')\n",
    "plt.title('Frequency of birthweights for live births')\n",
    "plt.show()"
   ]
  },
  {
   "cell_type": "markdown",
   "metadata": {
    "collapsed": true
   },
   "source": [
    "Pandas is handy for quickly calculating summary statistics:"
   ]
  },
  {
   "cell_type": "code",
   "execution_count": 87,
   "metadata": {},
   "outputs": [
    {
     "name": "stdout",
     "output_type": "stream",
     "text": [
      "The mean pregnancy length for live births is 38.56 weeks.\n",
      "The standard deviation is 2.7 weeks.\n",
      "The variance is 7.3 - but remember, the unit isn't weeks.\n"
     ]
    }
   ],
   "source": [
    "prg = live.prglngth\n",
    "print('The mean pregnancy length for live births ' +\n",
    "      'is {mean} weeks.'.format(mean=round(prg.mean(), 2)))\n",
    "print('The standard deviation is ' +\n",
    "      '{stdev} weeks.'.format(stdev=round(prg.std(), 2)))\n",
    "print('The variance is {var} -'.format(var=round(prg.var(), 2)) +\n",
    "      ' but remember, the unit isn\\'t weeks.')"
   ]
  },
  {
   "cell_type": "markdown",
   "metadata": {},
   "source": [
    "Downey also introduces a statistic for **effect sizes** called **Cohen's *d*.**\n",
    "\n",
    "Cohen's *d* provides a simple and handy summary statistic for describing the difference between the means of two samples. It's defined as the **difference in means divided by the pooled standard deviation**. \n",
    "\n",
    "In general, pooled variance is defined as a weighted average of the variances of multiple distributions. That is:"
   ]
  },
  {
   "cell_type": "code",
   "execution_count": 93,
   "metadata": {},
   "outputs": [],
   "source": [
    "import math\n",
    "\n",
    "def var(a):\n",
    "    # a is a distribution.\n",
    "    a_mean = sum(a)/len(a)\n",
    "    return sum([(i - a_mean)**2 for i in a])\n",
    "    \n",
    "def pooled_var(*args):\n",
    "    # args must be samples.\n",
    "    return sum([((len(arg)*var(arg))/len(arg)) for arg in list(args)])\n",
    "\n",
    "def pooled_stdev(*args):\n",
    "    # args must be samples.\n",
    "    return math.sqrt(pooled_var(*args))"
   ]
  },
  {
   "cell_type": "markdown",
   "metadata": {},
   "source": [
    "And Cohen's *d* follows:"
   ]
  },
  {
   "cell_type": "code",
   "execution_count": null,
   "metadata": {
    "collapsed": true
   },
   "outputs": [],
   "source": [
    "def cohens_d(a, b):\n",
    "    # a and b are samples.\n",
    "    a_mean = sum(a)/len(a)\n",
    "    b_mean = sum(b)/len(b)\n",
    "    return (a_mean - b_mean) / pooled_stdev(a, b)"
   ]
  },
  {
   "cell_type": "markdown",
   "metadata": {},
   "source": [
    "Reporting this statistic helps quantify the difference between the central tendency of two samples, while responsibly dealing with the fact that they may have very different spreads."
   ]
  },
  {
   "cell_type": "code",
   "execution_count": null,
   "metadata": {
    "collapsed": true
   },
   "outputs": [],
   "source": []
  }
 ],
 "metadata": {
  "kernelspec": {
   "display_name": "learning",
   "language": "python",
   "name": "learning"
  },
  "language_info": {
   "codemirror_mode": {
    "name": "ipython",
    "version": 3
   },
   "file_extension": ".py",
   "mimetype": "text/x-python",
   "name": "python",
   "nbconvert_exporter": "python",
   "pygments_lexer": "ipython3",
   "version": "3.6.0"
  }
 },
 "nbformat": 4,
 "nbformat_minor": 2
}
