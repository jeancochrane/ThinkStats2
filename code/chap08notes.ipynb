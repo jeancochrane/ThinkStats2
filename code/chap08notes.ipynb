{
 "cells": [
  {
   "cell_type": "markdown",
   "metadata": {},
   "source": [
    "# Estimation\n",
    "\n",
    "**Estimation**: The process of trying to determine the best-fit model and parameters for a given distribution.\n",
    "\n",
    "**Estimator**: An algorithm that delivers an *estimation*.\n",
    "\n",
    "There are many possible estimators for any given problem. The best estimator depends on what errors we're trying to minimize.\n",
    "\n",
    "**Maximumum Likelihood Estimators** (MLE) have the best probability of being the \"right guess.\" Downey uses the example of rolling three dice and guessing the sum: the mean (10.5) minimizes the *mean squared error*, but can never be the \"correct\" guess, since 10.5 is not a possible value. \n",
    "\n",
    "**Bias** describes the way in which an estimator is consistently \"off\" from its estimate. Bias can either measure the difference between the expected value of the estimator and the actual parameter (mean-bias, the standard definition) or the difference between the median value and the actual param (median-bias, less common).\n",
    "\n",
    "**Sampling error**: variance in the data caused by *random* selection (usually at low sample sizes)\n",
    "\n",
    "**Sampling distribution**: the plot of the sample means of many trials\n",
    "\n",
    "**Sampling bias**: A predictable way in which a given sampling *method* produces a \"wrong\" estimate"
   ]
  },
  {
   "cell_type": "markdown",
   "metadata": {},
   "source": [
    "## Exercises\n",
    "\n",
    "**1.**\n",
    "\n",
    "In this chapter we used sample mean and sample median [as estimators] to estimate µ, and found that sample mean yields lower MSE. Also, we used S2 and Sn−12 to estimate σ, and found that S2 is biased and Sn−12 unbiased.\n",
    "\n",
    "Run similar experiments to see if sample mean and sample median are biased estimates of µ. Also check whether S2 or Sn−12 yields a lower MSE."
   ]
  },
  {
   "cell_type": "code",
   "execution_count": 10,
   "metadata": {},
   "outputs": [
    {
     "name": "stdout",
     "output_type": "stream",
     "text": [
      "Bias of the sample mean: -4.97303609867e-05\n",
      "Bias of the sample median: -0.000201764198987\n",
      "MSE of S^2: 0.43561906087686575\n",
      "MSE of S(n-1)^2: 0.47096633175223307\n"
     ]
    }
   ],
   "source": [
    "import random\n",
    "import numpy as np\n",
    "from math import sqrt\n",
    "\n",
    "def MSE(estimates, actual):\n",
    "    return np.mean([(e - actual)**2 for e in estimates])\n",
    "\n",
    "def bias(estimates, actual):\n",
    "    return np.mean([e - actual for e in estimates])\n",
    "\n",
    "def experiment(mu=0, sigma=1, n=10, m=100000):\n",
    "\n",
    "    sample_means, sample_medians = [], []\n",
    "    s2_biased, s2_unbiased = [], []\n",
    "    \n",
    "    for x in range(m):\n",
    "        samples = [random.gauss(mu, sigma) for y in range(n)]\n",
    "        sample_means.append(np.mean(samples))\n",
    "        sample_medians.append(np.median(samples))\n",
    "        s2_biased.append(np.var(samples))\n",
    "        s2_unbiased.append(np.var(samples, ddof=1))\n",
    "    \n",
    "    print(\"Bias of the sample mean:\", bias(sample_means, mu))\n",
    "    print(\"Bias of the sample median:\", bias(sample_medians, mu))\n",
    "    print(\"MSE of S^2:\", MSE(s2_biased, sigma**2))\n",
    "    print(\"MSE of S(n-1)^2:\", MSE(s2_unbiased, sigma**2))\n",
    "    \n",
    "experiment()"
   ]
  },
  {
   "cell_type": "markdown",
   "metadata": {},
   "source": [
    "**2.**\n",
    "\n",
    "Suppose you draw a sample with size n=10 from an exponential distribution with λ=2. Simulate this experiment 1000 times and plot the sampling distribution of the estimate L. Compute the standard error of the estimate and the 90% confidence interval.\n",
    "\n",
    "Repeat the experiment with a few different values of `n` and make a plot of standard error versus `n`."
   ]
  },
  {
   "cell_type": "code",
   "execution_count": 16,
   "metadata": {},
   "outputs": [
    {
     "ename": "IndentationError",
     "evalue": "expected an indented block (<ipython-input-16-fd22f76debb7>, line 19)",
     "output_type": "error",
     "traceback": [
      "\u001b[0;36m  File \u001b[0;32m\"<ipython-input-16-fd22f76debb7>\"\u001b[0;36m, line \u001b[0;32m19\u001b[0m\n\u001b[0;31m    lam = 2\u001b[0m\n\u001b[0m           ^\u001b[0m\n\u001b[0;31mIndentationError\u001b[0m\u001b[0;31m:\u001b[0m expected an indented block\n"
     ]
    }
   ],
   "source": [
    "%matplotlib inline%\n",
    "\n",
    "def samples(n, lam, m):\n",
    "    Ls = []\n",
    "    for i in range(m):\n",
    "        L = 1 / np.mean([random.expovariate(lam) for _ in range(n)])\n",
    "        Ls.append(L)\n",
    "    return Ls\n",
    "\n",
    "def conf_interval(estimates, actual):\n",
    "    low = np.percentile(estimates, 5)\n",
    "    high = np.percentile(estimates, 95)\n",
    "    return (low, high)\n",
    "\n",
    "def plot_sampling_distribution(samples):\n",
    "    pass\n",
    "\n",
    "def plot_standard_error(lam, m, ns=[100, 1000, 10000]):\n",
    "    errors = [MSE(samples(n, lam, m), lam) for n in ns]\n",
    "    # TODO: bar chart of errors\n",
    "\n",
    "lam = 2\n",
    "m = 1000\n",
    "samples = sample(n=10, lam=lam, m=m)\n",
    "plot_sampling_distribution(samples)\n",
    "print(\"SE of the estimate:\", MSE(samples, lam))\n",
    "print(\"90% confidence interval:\", conf_interval(samples, lam))\n",
    "plot_standard_error(lam=lam, m=m)\n",
    "\n"
   ]
  },
  {
   "cell_type": "code",
   "execution_count": null,
   "metadata": {
    "collapsed": true
   },
   "outputs": [],
   "source": []
  }
 ],
 "metadata": {
  "kernelspec": {
   "display_name": "learning",
   "language": "python",
   "name": "learning"
  },
  "language_info": {
   "codemirror_mode": {
    "name": "ipython",
    "version": 3
   },
   "file_extension": ".py",
   "mimetype": "text/x-python",
   "name": "python",
   "nbconvert_exporter": "python",
   "pygments_lexer": "ipython3",
   "version": "3.6.0"
  }
 },
 "nbformat": 4,
 "nbformat_minor": 2
}
